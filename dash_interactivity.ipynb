{
 "cells": [
  {
   "cell_type": "markdown",
   "metadata": {},
   "source": [
    "# Build a Dashboard Application with Plotly Dash\n",
    "\n",
    "In this lab, you will be building a Plotly Dash application for users to perform interactive visual analytics on SpaceX launch data in real-time.\n",
    "\n",
    "This dashboard application contains input components such as a dropdown list and a range slider to interact with a pie chart and a scatter point chart. You will be guided to build this dashboard application via the following tasks:\n",
    "\n",
    "- **TASK 1:** Add a Launch Site Drop-down Input Component\n",
    "- **TASK 2:** Add a callback function to render `success-pie-chart` based on selected site dropdown\n",
    "- **TASK 3:** Add a Range Slider to Select Payload\n",
    "- **TASK 4:** Add a callback function to render the `success-payload-scatter-chart` scatter plot\n",
    "\n",
    "**Note:** Please take screenshots of the Dashboard and save them. Further upload your notebook to github.\n",
    "\n",
    "_The github url and the screenshots are later required in the presentation slides._\n",
    "\n",
    "Your completed dashboard application should look like the following screenshot:\n"
   ]
  }
 ],
 "metadata": {
  "kernelspec": {
   "display_name": "Python 3",
   "language": "python",
   "name": "python3"
  },
  "language_info": {
   "name": "python",
   "version": "3.10.11"
  }
 },
 "nbformat": 4,
 "nbformat_minor": 2
}
