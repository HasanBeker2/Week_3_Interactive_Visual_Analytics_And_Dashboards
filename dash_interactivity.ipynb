{
 "cells": [
  {
   "cell_type": "markdown",
   "metadata": {},
   "source": [
    "<p align=\"center\">\n",
    "  <img src=\"https://drive.google.com/uc?id=1wz_BMVEIRz_wh3_cFVpK_LW3mcIeER36\" alt=\"Hasan Beker's Logo\"/>\n",
    "</p>\n"
   ]
  },
  {
   "cell_type": "markdown",
   "metadata": {},
   "source": [
    "# Build a Dashboard Application with Plotly Dash\n",
    "\n",
    "In this lab, you will be building a Plotly Dash application for users to perform interactive visual analytics on SpaceX launch data in real-time.\n",
    "\n",
    "This dashboard application contains input components such as a dropdown list and a range slider to interact with a pie chart and a scatter point chart. You will be guided to build this dashboard application via the following tasks:\n",
    "\n",
    "- **TASK 1:** Add a Launch Site Drop-down Input Component\n",
    "- **TASK 2:** Add a callback function to render `success-pie-chart` based on selected site dropdown\n",
    "- **TASK 3:** Add a Range Slider to Select Payload\n",
    "- **TASK 4:** Add a callback function to render the `success-payload-scatter-chart` scatter plot\n",
    "\n",
    "**Note:** Please take screenshots of the Dashboard and save them. Further upload your notebook to github.\n",
    "\n",
    "_The github url and the screenshots are later required in the presentation slides._\n",
    "\n",
    "Your completed dashboard application should look like the following screenshot:\n"
   ]
  },
  {
   "cell_type": "markdown",
   "metadata": {},
   "source": [
    "\n",
    "\n",
    "![Dash_1](https://drive.google.com/uc?id=1h2V2aYVb2EnZK0QAAZwF7RtYZnkw3iwF)"
   ]
  },
  {
   "cell_type": "markdown",
   "metadata": {},
   "source": [
    "After visual analysis using the dashboard, you should be able to obtain some insights to answer the following four questions:\n",
    "\n",
    "1. Which site has the largest successful launches?\n",
    "2. Which site has the highest launch success rate?\n",
    "3. Which payload range(s) has the highest launch success rate?\n",
    "4. Which payload range(s) has the lowest launch success rate?\n",
    "5. Which F9 Booster version (`v1.0`, `v1.1`, `FT`, `B4`, `B5`, etc.) has the highest launch success rate?\n"
   ]
  }
 ],
 "metadata": {
  "kernelspec": {
   "display_name": "Python 3",
   "language": "python",
   "name": "python3"
  },
  "language_info": {
   "name": "python",
   "version": "3.10.11"
  }
 },
 "nbformat": 4,
 "nbformat_minor": 2
}
